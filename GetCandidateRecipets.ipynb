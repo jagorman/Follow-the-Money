{
 "cells": [
  {
   "cell_type": "code",
   "execution_count": 3,
   "metadata": {},
   "outputs": [],
   "source": [
    "# Dependencies\n",
    "from bs4 import BeautifulSoup as bs\n",
    "import requests\n",
    "import pymongo\n",
    "# from splinter import Browser\n",
    "from flask import Flask, render_template, redirect\n",
    "from flask_pymongo import PyMongo\n",
    "import pandas as pd\n",
    "from config import api_key"
   ]
  },
  {
   "cell_type": "code",
   "execution_count": 37,
   "metadata": {},
   "outputs": [
    {
     "output_type": "stream",
     "name": "stderr",
     "text": [
      "<ipython-input-37-cc7432f51ec2>:7: DeprecationWarning: remove is deprecated. Use delete_one or delete_many instead.\n  db.candidate_data.remove()\n"
     ]
    },
    {
     "output_type": "execute_result",
     "data": {
      "text/plain": [
       "{'n': 71, 'ok': 1.0}"
      ]
     },
     "metadata": {},
     "execution_count": 37
    }
   ],
   "source": [
    "conn = \"mongodb://localhost:27017\"\n",
    "client = pymongo.MongoClient(conn)\n",
    "db = client.FollowTheMoney\n",
    "members_collection = db.members\n",
    "receipt_totals_collection = db.receiptTotals\n",
    "candidate_data_collection = db.candidate_data\n",
    "candidate_data_collection.remove()\n",
    "members_collection.remove()\n",
    "receipt_totals_collection.remove()"
   ]
  },
  {
   "cell_type": "code",
   "execution_count": null,
   "metadata": {},
   "outputs": [],
   "source": [
    "newurl=f\"https://api.open.fec.gov/v1/schedules/schedule_a/by_state/by_candidate/?sort_null_only=false&api_key={api_key}&sort_hide_null=false&election_full=false&candidate_id=H8KS03155&candidate_id=H0KS02188&candidate_id=%20H8KS04112&candidate_id=H0KS01123&candidate_id=S0KS00315&candidate_id=S0KS00091&candidate_id=S8MO00160&candidate_id=S0MO00183&candidate_id=H8M001143&candidate_id=H2M002102&candidate_id=H8M009153&candidate_id=H0M004086&candidate_id=H4M005234&candidate_id=H0M006073&candidate_id=H0M007113&candidate_id=H4M008162&cycle=2014&cycle=2016&cycle=2018&cycle=2020&per_page=20&page=1&sort_nulls_last=false\"\n",
    "money=requests.get(newurl).json()"
   ]
  },
  {
   "cell_type": "code",
   "execution_count": null,
   "metadata": {},
   "outputs": [],
   "source": [
    "total_pages = money['pagination']['pages']\n",
    "for i in range(1,total_pages+1):\n",
    "    totals_url=f\"https://api.open.fec.gov/v1/schedules/schedule_a/by_state/by_candidate/?sort_null_only=false&api_key={api_key}&sort_hide_null=false&election_full=false&candidate_id=H8KS03155&candidate_id=H0KS02188&candidate_id=20H8KS04112&candidate_id=H0KS01123&candidate_id=S0KS00315&candidate_id=S0KS00091&candidate_id=S8MO00160&candidate_id=S0MO00183&candidate_id=H8M001143&candidate_id=H2M002102&candidate_id=H8M009153&candidate_id=H0M004086&candidate_id=H4M005234&candidate_id=H0M006073&candidate_id=H0M007113&candidate_id=H4M008162&cycle=2014&cycle=2016&cycle=2018&cycle=2020&per_page=20&page={i}&sort_nulls_last=false\"\n",
    "    totals_json = requests.get(totals_url).json()\n",
    "    for item in totals_json['results']:\n",
    "        receipt_totals_collection.insert_one(item)"
   ]
  },
  {
   "cell_type": "code",
   "execution_count": null,
   "metadata": {},
   "outputs": [],
   "source": [
    "members = requests.get(f\"{url}&election_year=2013&election_year=2014&election_year=2015&election_year=2016&election_year=2017&election_year=2018&election_year=2019&election_year=2020&sort=name&candidate_status=C&page=1&is_active_candidate=true&per_page=20&state=KS&state=MO&office=H&office=S&sort_hide_null=false&sort_null_only=false&sort_nulls_last=false\").json()\n",
    "#find out how many pages of data there are\n",
    "total_pages = members['pagination']['pages']\n"
   ]
  },
  {
   "cell_type": "code",
   "execution_count": null,
   "metadata": {},
   "outputs": [],
   "source": [
    "#loop through and get all results\n",
    "for i in range(1,total_pages+1):\n",
    "    members = requests.get(f\"{url}&election_year=2013&election_year=2014&election_year=2015&election_year=2016&election_year=2017&election_year=2018&election_year=2019&election_year=2020&sort=name&candidate_status=C&page={i}&is_active_candidate=true&per_page=20&state=KS&state=MO&office=H&office=S&sort_hide_null=false&sort_null_only=false&sort_nulls_last=false\").json()\n",
    "    #loop through each record and push to DB\n",
    "    for item in members[\"results\"]:\n",
    "        members_collection.insert_one(item)"
   ]
  },
  {
   "cell_type": "code",
   "execution_count": 38,
   "metadata": {},
   "outputs": [],
   "source": [
    "# grab the kansas canidates from tbe DB\n",
    "KS_candidates = members_collection.find({\"state\":\"KS\"})\n",
    "MO_candidates = members_collection.find({\"state\":\"MO\"})"
   ]
  },
  {
   "cell_type": "code",
   "execution_count": 39,
   "metadata": {
    "tags": []
   },
   "outputs": [],
   "source": [
    "#populat kansas\n",
    "for cand in KS_candidates:\n",
    "    candDetail_url = f\"https://api.open.fec.gov/v1/candidate/{cand['candidate_id']}/filings/?sort=-receipt_date&sort_nulls_last=false&page=1&sort_hide_null=false&per_page=20&api_key=cKUzXnqasaxmD3l9mDOOD5wqRfZ0rnYuZJzxKnhx&sort_null_only=false\"\n",
    "    c_response = requests.get(candDetail_url).json()\n",
    "    if c_response['results']:\n",
    "        candidate_data_collection.insert_many(c_response['results'])"
   ]
  },
  {
   "cell_type": "code",
   "execution_count": 40,
   "metadata": {},
   "outputs": [],
   "source": [
    "#populat MO\n",
    "for cand in MO_candidates:\n",
    "    candDetail_url = f\"https://api.open.fec.gov/v1/candidate/{cand['candidate_id']}/filings/?sort=-receipt_date&sort_nulls_last=false&page=1&sort_hide_null=false&per_page=20&api_key=cKUzXnqasaxmD3l9mDOOD5wqRfZ0rnYuZJzxKnhx&sort_null_only=false\"\n",
    "    c_response = requests.get(candDetail_url).json()\n",
    "    if c_response['results']:\n",
    "        candidate_data_collection.insert_many(c_response['results'])"
   ]
  },
  {
   "cell_type": "code",
   "execution_count": 50,
   "metadata": {
    "tags": [
     "outputPrepend"
    ]
   },
   "outputs": [
    {
     "output_type": "stream",
     "name": "stdout",
     "text": [
      "pts': None, 'bank_depository_name': None, 'net_donations': None, 'bank_depository_state': None, 'additional_bank_names': None, 'amendment_version': 7, 'candidate_name': 'WAGNER, ANN L.', 'file_number': 1428459, 'state': 'MO', 'bank_depository_street_2': None, 'office': 'H', 'cash_on_hand_beginning_period': None, 'is_amended': True, 'pages': 3, 'debts_owed_to_committee': None, 'total_individual_contributions': None}\n{'_id': ObjectId('60a00255b996a9aefc9616de'), 'update_date': '2019-02-08T00:00:00', 'most_recent': False, 'ending_image_number': '201902089145478213', 'document_type': None, 'sub_id': '4020820191638698152', 'report_type': None, 'house_personal_funds': None, 'amendment_chain': [-540835.0, -559839.0, -589840.0, 833778.0, 1003774.0, 1134882.0, 1315139.0], 'bank_depository_street_1': None, 'means_filed': 'e-file', 'bank_depository_zip': None, 'request_type': None, 'receipt_date': '2019-02-08T00:00:00', 'senate_personal_funds': None, 'document_description': 'Statement of candidacy 2019', 'amendment_indicator': 'N', 'most_recent_file_number': 1507458, 'form_type': 'F2', 'coverage_start_date': None, 'document_type_full': None, 'bank_depository_city': None, 'opposition_personal_funds': None, 'previous_file_number': 1134882, 'total_independent_expenditures': None, 'treasurer_name': 'WAGNER, ANN L.', 'cash_on_hand_end_period': None, 'cycle': 2020, 'csv_url': 'https://docquery.fec.gov/csv/139/1315139.csv', 'committee_id': 'H2MO02102', 'debts_owed_by_committee': None, 'fec_url': 'https://docquery.fec.gov/dcdev/posted/1315139.fec', 'committee_name': None, 'html_url': 'https://docquery.fec.gov/cgi-bin/forms/H2MO02102/1315139/', 'election_year': 2020, 'pdf_url': 'https://docquery.fec.gov/pdf/212/201902089145478212/201902089145478212.pdf', 'report_year': 2019, 'total_communication_cost': None, 'committee_type': None, 'coverage_end_date': None, 'fec_file_id': 'FEC-1315139', 'report_type_full': None, 'total_disbursements': None, 'party': 'REP', 'beginning_image_number': '201902089145478212', 'primary_general_indicator': None, 'candidate_id': 'H2MO02102', 'form_category': 'STATEMENT', 'total_receipts': None, 'bank_depository_name': None, 'net_donations': None, 'bank_depository_state': None, 'additional_bank_names': None, 'amendment_version': 6, 'candidate_name': 'WAGNER, ANN L.', 'file_number': 1315139, 'state': 'MO', 'bank_depository_street_2': None, 'office': 'H', 'cash_on_hand_beginning_period': None, 'is_amended': True, 'pages': 2, 'debts_owed_to_committee': None, 'total_individual_contributions': None}\n{'_id': ObjectId('60a00255b996a9aefc9616df'), 'update_date': '2016-12-13T00:00:00', 'most_recent': False, 'ending_image_number': '201612139040606279', 'document_type': None, 'sub_id': '4121320161357239996', 'report_type': None, 'house_personal_funds': None, 'amendment_chain': [-540835.0, -559839.0, -589840.0, 833778.0, 1003774.0, 1134882.0], 'bank_depository_street_1': None, 'means_filed': 'e-file', 'bank_depository_zip': None, 'request_type': None, 'receipt_date': '2016-12-13T00:00:00', 'senate_personal_funds': None, 'document_description': 'Statement of candidacy 2016', 'amendment_indicator': 'N', 'most_recent_file_number': 1507458, 'form_type': 'F2', 'coverage_start_date': None, 'document_type_full': None, 'bank_depository_city': None, 'opposition_personal_funds': None, 'previous_file_number': 1134882, 'total_independent_expenditures': None, 'treasurer_name': 'WAGNER, ANN L.', 'cash_on_hand_end_period': None, 'cycle': 2016, 'csv_url': 'https://docquery.fec.gov/csv/882/1134882.csv', 'committee_id': 'H2MO02102', 'debts_owed_by_committee': None, 'fec_url': 'https://docquery.fec.gov/dcdev/posted/1134882.fec', 'committee_name': None, 'html_url': 'https://docquery.fec.gov/cgi-bin/forms/H2MO02102/1134882/', 'election_year': 2018, 'pdf_url': 'https://docquery.fec.gov/pdf/279/201612139040606279/201612139040606279.pdf', 'report_year': 2016, 'total_communication_cost': None, 'committee_type': None, 'coverage_end_date': None, 'fec_file_id': 'FEC-1134882', 'report_type_full': None, 'total_disbursements': None, 'party': 'REP', 'beginning_image_number': '201612139040606279', 'primary_general_indicator': None, 'candidate_id': 'H2MO02102', 'form_category': 'STATEMENT', 'total_receipts': None, 'bank_depository_name': None, 'net_donations': None, 'bank_depository_state': None, 'additional_bank_names': None, 'amendment_version': 5, 'candidate_name': 'WAGNER, ANN L.', 'file_number': 1134882, 'state': 'MO', 'bank_depository_street_2': None, 'office': 'H', 'cash_on_hand_beginning_period': None, 'is_amended': True, 'pages': 1, 'debts_owed_to_committee': None, 'total_individual_contributions': None}\n{'_id': ObjectId('60a00255b996a9aefc9616e0'), 'update_date': '2015-04-15T00:00:00', 'most_recent': False, 'ending_image_number': '15951159610', 'document_type': None, 'sub_id': '4041520151241820957', 'report_type': None, 'house_personal_funds': None, 'amendment_chain': [-540835.0, -559839.0, -589840.0, 833778.0, 1003774.0], 'bank_depository_street_1': None, 'means_filed': 'e-file', 'bank_depository_zip': None, 'request_type': None, 'receipt_date': '2015-04-15T00:00:00', 'senate_personal_funds': None, 'document_description': 'Statement of candidacy 2015', 'amendment_indicator': 'N', 'most_recent_file_number': 1507458, 'form_type': 'F2', 'coverage_start_date': None, 'document_type_full': None, 'bank_depository_city': None, 'opposition_personal_funds': None, 'previous_file_number': 833778, 'total_independent_expenditures': None, 'treasurer_name': 'WAGNER, ANN L.', 'cash_on_hand_end_period': None, 'cycle': 2016, 'csv_url': 'https://docquery.fec.gov/csv/774/1003774.csv', 'committee_id': 'H2MO02102', 'debts_owed_by_committee': None, 'fec_url': 'https://docquery.fec.gov/dcdev/posted/1003774.fec', 'committee_name': None, 'html_url': 'https://docquery.fec.gov/cgi-bin/forms/H2MO02102/1003774/', 'election_year': 2016, 'pdf_url': 'https://docquery.fec.gov/pdf/610/15951159610/15951159610.pdf', 'report_year': 2015, 'total_communication_cost': None, 'committee_type': None, 'coverage_end_date': None, 'fec_file_id': 'FEC-1003774', 'report_type_full': None, 'total_disbursements': None, 'party': 'REP', 'beginning_image_number': '15951159610', 'primary_general_indicator': None, 'candidate_id': 'H2MO02102', 'form_category': 'STATEMENT', 'total_receipts': None, 'bank_depository_name': None, 'net_donations': None, 'bank_depository_state': None, 'additional_bank_names': None, 'amendment_version': 4, 'candidate_name': 'WAGNER, ANN L.', 'file_number': 1003774, 'state': 'MO', 'bank_depository_street_2': None, 'office': 'H', 'cash_on_hand_beginning_period': None, 'is_amended': True, 'pages': 1, 'debts_owed_to_committee': None, 'total_individual_contributions': None}\n{'_id': ObjectId('60a00255b996a9aefc9616e1'), 'update_date': '2015-04-10T00:00:00', 'most_recent': True, 'ending_image_number': '15330080213', 'document_type': 'H', 'sub_id': '1041020150017300458', 'report_type': None, 'house_personal_funds': None, 'amendment_chain': None, 'bank_depository_street_1': None, 'means_filed': 'paper', 'bank_depository_zip': None, 'request_type': None, 'receipt_date': '2015-04-09T00:00:00', 'senate_personal_funds': None, 'document_description': 'Disavowal Notice 2015', 'amendment_indicator': None, 'most_recent_file_number': None, 'form_type': 'F99', 'coverage_start_date': None, 'document_type_full': 'Disavowal Notice', 'bank_depository_city': None, 'opposition_personal_funds': None, 'previous_file_number': 0, 'total_independent_expenditures': None, 'treasurer_name': None, 'cash_on_hand_end_period': None, 'cycle': 2016, 'csv_url': None, 'committee_id': 'H2MO02102', 'debts_owed_by_committee': None, 'fec_url': 'https://docquery.fec.gov/paper/posted/.fec', 'committee_name': None, 'html_url': None, 'election_year': None, 'pdf_url': 'https://docquery.fec.gov/pdf/213/15330080213/15330080213.pdf', 'report_year': 2015, 'total_communication_cost': None, 'committee_type': None, 'coverage_end_date': None, 'fec_file_id': None, 'report_type_full': None, 'total_disbursements': None, 'party': 'REP', 'beginning_image_number': '15330080213', 'primary_general_indicator': None, 'candidate_id': 'H2MO02102', 'form_category': 'OTHER', 'total_receipts': None, 'bank_depository_name': None, 'net_donations': None, 'bank_depository_state': None, 'additional_bank_names': None, 'amendment_version': 0, 'candidate_name': 'WAGNER, ANN L.', 'file_number': None, 'state': 'MO', 'bank_depository_street_2': None, 'office': 'H', 'cash_on_hand_beginning_period': None, 'is_amended': False, 'pages': 1, 'debts_owed_to_committee': None, 'total_individual_contributions': None}\n{'_id': ObjectId('60a00255b996a9aefc9616e2'), 'update_date': '2012-11-13T00:00:00', 'most_recent': False, 'ending_image_number': '12961259694', 'document_type': None, 'sub_id': '4111320121170497683', 'report_type': None, 'house_personal_funds': None, 'amendment_chain': [-540835.0, -559839.0, -589840.0, 833778.0], 'bank_depository_street_1': None, 'means_filed': 'e-file', 'bank_depository_zip': None, 'request_type': None, 'receipt_date': '2012-11-13T00:00:00', 'senate_personal_funds': None, 'document_description': 'Statement of candidacy 2012', 'amendment_indicator': 'N', 'most_recent_file_number': 1507458, 'form_type': 'F2', 'coverage_start_date': None, 'document_type_full': None, 'bank_depository_city': None, 'opposition_personal_funds': None, 'previous_file_number': 833778, 'total_independent_expenditures': None, 'treasurer_name': 'WAGNER, ANN L.', 'cash_on_hand_end_period': None, 'cycle': 2012, 'csv_url': 'https://docquery.fec.gov/csv/778/833778.csv', 'committee_id': 'H2MO02102', 'debts_owed_by_committee': None, 'fec_url': 'https://docquery.fec.gov/dcdev/posted/833778.fec', 'committee_name': None, 'html_url': 'https://docquery.fec.gov/cgi-bin/forms/H2MO02102/833778/', 'election_year': 2014, 'pdf_url': 'https://docquery.fec.gov/pdf/694/12961259694/12961259694.pdf', 'report_year': 2012, 'total_communication_cost': None, 'committee_type': None, 'coverage_end_date': None, 'fec_file_id': 'FEC-833778', 'report_type_full': None, 'total_disbursements': None, 'party': 'REP', 'beginning_image_number': '12961259694', 'primary_general_indicator': None, 'candidate_id': 'H2MO02102', 'form_category': 'STATEMENT', 'total_receipts': None, 'bank_depository_name': None, 'net_donations': None, 'bank_depository_state': None, 'additional_bank_names': None, 'amendment_version': 3, 'candidate_name': 'WAGNER, ANN L', 'file_number': 833778, 'state': 'MO', 'bank_depository_street_2': None, 'office': 'H', 'cash_on_hand_beginning_period': None, 'is_amended': True, 'pages': 1, 'debts_owed_to_committee': None, 'total_individual_contributions': None}\n{'_id': ObjectId('60a00255b996a9aefc9616e3'), 'update_date': '2011-06-22T00:00:00', 'most_recent': False, 'ending_image_number': '11030614550', 'document_type': None, 'sub_id': '1062120110005881116', 'report_type': None, 'house_personal_funds': None, 'amendment_chain': [-540835.0, -559839.0, -589840.0], 'bank_depository_street_1': None, 'means_filed': 'paper', 'bank_depository_zip': None, 'request_type': None, 'receipt_date': '2011-06-14T00:00:00', 'senate_personal_funds': None, 'document_description': 'Statement of candidacy 2011', 'amendment_indicator': 'A', 'most_recent_file_number': 1507458, 'form_type': 'F2', 'coverage_start_date': None, 'document_type_full': None, 'bank_depository_city': None, 'opposition_personal_funds': None, 'previous_file_number': -589840, 'total_independent_expenditures': None, 'treasurer_name': None, 'cash_on_hand_end_period': None, 'cycle': 2012, 'csv_url': None, 'committee_id': 'H2MO02102', 'debts_owed_by_committee': None, 'committee_name': None, 'html_url': None, 'election_year': 2012, 'pdf_url': 'https://docquery.fec.gov/pdf/549/11030614549/11030614549.pdf', 'report_year': 2011, 'total_communication_cost': None, 'committee_type': None, 'coverage_end_date': None, 'fec_file_id': None, 'report_type_full': None, 'total_disbursements': None, 'party': 'REP', 'beginning_image_number': '11030614549', 'primary_general_indicator': None, 'candidate_id': 'H2MO02102', 'form_category': 'STATEMENT', 'total_receipts': None, 'bank_depository_name': None, 'net_donations': None, 'bank_depository_state': None, 'additional_bank_names': None, 'amendment_version': 2, 'candidate_name': 'WAGNER, ANN L', 'file_number': -589840, 'state': 'MO', 'bank_depository_street_2': None, 'office': 'H', 'cash_on_hand_beginning_period': None, 'is_amended': True, 'pages': 2, 'debts_owed_to_committee': None, 'total_individual_contributions': None}\n{'_id': ObjectId('60a00255b996a9aefc9616e4'), 'update_date': '2011-06-05T00:00:00', 'most_recent': True, 'ending_image_number': '11330010172', 'document_type': None, 'sub_id': '1060520110005836460', 'report_type': None, 'house_personal_funds': None, 'amendment_chain': None, 'bank_depository_street_1': None, 'means_filed': 'paper', 'bank_depository_zip': None, 'request_type': '5', 'receipt_date': '2011-06-03T00:00:00', 'senate_personal_funds': None, 'document_description': 'RFAI: Document 2011', 'amendment_indicator': None, 'most_recent_file_number': None, 'form_type': 'FRQ', 'coverage_start_date': None, 'document_type_full': None, 'bank_depository_city': None, 'opposition_personal_funds': None, 'previous_file_number': 0, 'total_independent_expenditures': None, 'treasurer_name': None, 'cash_on_hand_end_period': None, 'cycle': 2012, 'csv_url': None, 'committee_id': 'H2MO02102', 'debts_owed_by_committee': None, 'fec_url': 'https://docquery.fec.gov/paper/posted/.fec', 'committee_name': None, 'html_url': None, 'election_year': None, 'pdf_url': 'https://docquery.fec.gov/pdf/172/11330010172/11330010172.pdf', 'report_year': 2011, 'total_communication_cost': None, 'committee_type': None, 'coverage_end_date': None, 'fec_file_id': None, 'report_type_full': None, 'total_disbursements': None, 'party': 'REP', 'beginning_image_number': '11330010172', 'primary_general_indicator': None, 'candidate_id': 'H2MO02102', 'form_category': 'OTHER', 'total_receipts': None, 'bank_depository_name': None, 'net_donations': None, 'bank_depository_state': None, 'additional_bank_names': None, 'amendment_version': 0, 'candidate_name': 'WAGNER, ANN L', 'file_number': None, 'state': 'MO', 'bank_depository_street_2': None, 'office': 'H', 'cash_on_hand_beginning_period': None, 'is_amended': False, 'pages': 1, 'debts_owed_to_committee': None, 'total_individual_contributions': None}\n{'_id': ObjectId('60a00255b996a9aefc9616e5'), 'update_date': '2011-05-20T00:00:00', 'most_recent': False, 'ending_image_number': '11030610236', 'document_type': None, 'sub_id': '1052020110005803882', 'report_type': None, 'house_personal_funds': None, 'amendment_chain': [-540835.0, -559839.0], 'bank_depository_street_1': None, 'means_filed': 'paper', 'bank_depository_zip': None, 'request_type': None, 'receipt_date': '2011-05-18T00:00:00', 'senate_personal_funds': None, 'document_description': 'Statement of candidacy 2011', 'amendment_indicator': 'N', 'most_recent_file_number': 1507458, 'form_type': 'F2', 'coverage_start_date': None, 'document_type_full': None, 'bank_depository_city': None, 'opposition_personal_funds': None, 'previous_file_number': -559839, 'total_independent_expenditures': None, 'treasurer_name': None, 'cash_on_hand_end_period': None, 'cycle': 2012, 'csv_url': None, 'committee_id': 'H2MO02102', 'debts_owed_by_committee': None, 'committee_name': None, 'html_url': None, 'election_year': 2000, 'pdf_url': 'https://docquery.fec.gov/pdf/235/11030610235/11030610235.pdf', 'report_year': 2011, 'total_communication_cost': None, 'committee_type': None, 'coverage_end_date': None, 'fec_file_id': None, 'report_type_full': None, 'total_disbursements': None, 'party': 'REP', 'beginning_image_number': '11030610235', 'primary_general_indicator': None, 'candidate_id': 'H2MO02102', 'form_category': 'STATEMENT', 'total_receipts': None, 'bank_depository_name': None, 'net_donations': None, 'bank_depository_state': None, 'additional_bank_names': None, 'amendment_version': 1, 'candidate_name': 'WAGNER, ANN L', 'file_number': -559839, 'state': 'MO', 'bank_depository_street_2': None, 'office': 'H', 'cash_on_hand_beginning_period': None, 'is_amended': True, 'pages': 2, 'debts_owed_to_committee': None, 'total_individual_contributions': None}\n{'_id': ObjectId('60a00255b996a9aefc9616e6'), 'update_date': '2011-04-28T00:00:00', 'most_recent': False, 'ending_image_number': '11030601564', 'document_type': None, 'sub_id': '1042820110005729168', 'report_type': None, 'house_personal_funds': None, 'amendment_chain': [-540835.0], 'bank_depository_street_1': None, 'means_filed': 'paper', 'bank_depository_zip': None, 'request_type': None, 'receipt_date': '2011-04-27T00:00:00', 'senate_personal_funds': None, 'document_description': 'Statement of candidacy 2011', 'amendment_indicator': 'N', 'most_recent_file_number': 1507458, 'form_type': 'F2', 'coverage_start_date': None, 'document_type_full': None, 'bank_depository_city': None, 'opposition_personal_funds': None, 'previous_file_number': -540835, 'total_independent_expenditures': None, 'treasurer_name': None, 'cash_on_hand_end_period': None, 'cycle': 2012, 'csv_url': None, 'committee_id': 'H2MO02102', 'debts_owed_by_committee': None, 'committee_name': None, 'html_url': None, 'election_year': 2012, 'pdf_url': 'https://docquery.fec.gov/pdf/563/11030601563/11030601563.pdf', 'report_year': 2011, 'total_communication_cost': None, 'committee_type': None, 'coverage_end_date': None, 'fec_file_id': None, 'report_type_full': None, 'total_disbursements': None, 'party': 'REP', 'beginning_image_number': '11030601563', 'primary_general_indicator': None, 'candidate_id': 'H2MO02102', 'form_category': 'STATEMENT', 'total_receipts': None, 'bank_depository_name': None, 'net_donations': None, 'bank_depository_state': None, 'additional_bank_names': None, 'amendment_version': 0, 'candidate_name': 'WAGNER, ANN L', 'file_number': -540835, 'state': 'MO', 'bank_depository_street_2': None, 'office': 'H', 'cash_on_hand_beginning_period': None, 'is_amended': True, 'pages': 2, 'debts_owed_to_committee': None, 'total_individual_contributions': None}\n{'_id': ObjectId('60a00256b996a9aefc9616e7'), 'net_donations': None, 'cycle': 2016, 'update_date': '2015-01-22T00:00:00', 'document_description': 'Statement of candidacy 2015', 'pages': 3, 'total_communication_cost': None, 'pdf_url': 'https://docquery.fec.gov/pdf/181/15031373181/15031373181.pdf', 'bank_depository_zip': None, 'treasurer_name': None, 'committee_name': None, 'report_type': None, 'debts_owed_to_committee': None, 'report_year': 2015, 'form_type': 'F2', 'candidate_name': 'WHITE, JAMES LLOYD', 'committee_type': None, 'total_receipts': None, 'form_category': 'STATEMENT', 'report_type_full': None, 'ending_image_number': '15031373183', 'primary_general_indicator': None, 'amendment_indicator': 'N', 'previous_file_number': -8752852, 'cash_on_hand_beginning_period': None, 'bank_depository_name': None, 'opposition_personal_funds': None, 'most_recent_file_number': -8752852, 'fec_file_id': None, 'receipt_date': '2015-01-20T00:00:00', 'amendment_chain': [-8752852.0], 'candidate_id': 'H6MO04216', 'document_type_full': None, 'party': 'DEM', 'amendment_version': 0, 'cash_on_hand_end_period': None, 'bank_depository_city': None, 'house_personal_funds': None, 'most_recent': True, 'total_independent_expenditures': None, 'total_individual_contributions': None, 'office': 'H', 'file_number': -8752852, 'request_type': None, 'state': 'MO', 'means_filed': 'paper', 'election_year': 2016, 'html_url': None, 'coverage_end_date': None, 'committee_id': 'H6MO04216', 'bank_depository_state': None, 'sub_id': '1012020150016580846', 'senate_personal_funds': None, 'additional_bank_names': None, 'bank_depository_street_1': None, 'bank_depository_street_2': None, 'beginning_image_number': '15031373181', 'total_disbursements': None, 'is_amended': False, 'csv_url': None, 'debts_owed_by_committee': None, 'coverage_start_date': None, 'document_type': None}\n"
     ]
    }
   ],
   "source": [
    "candidates = candidate_data_collection.find()\n",
    "for candidate in candidates:\n",
    "    print(candidate)"
   ]
  },
  {
   "cell_type": "code",
   "execution_count": null,
   "metadata": {},
   "outputs": [],
   "source": []
  }
 ],
 "metadata": {
  "kernelspec": {
   "name": "python38264bit2909b329606e44ff92ccff84d12b430a",
   "display_name": "Python 3.8.2 64-bit"
  },
  "language_info": {
   "codemirror_mode": {
    "name": "ipython",
    "version": 3
   },
   "file_extension": ".py",
   "mimetype": "text/x-python",
   "name": "python",
   "nbconvert_exporter": "python",
   "pygments_lexer": "ipython3",
   "version": "3.8.2"
  },
  "metadata": {
   "interpreter": {
    "hash": "aee8b7b246df8f9039afb4144a1f6fd8d2ca17a180786b69acc140d282b71a49"
   }
  }
 },
 "nbformat": 4,
 "nbformat_minor": 5
}