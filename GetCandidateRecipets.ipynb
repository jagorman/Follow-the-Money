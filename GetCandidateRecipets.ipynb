{
 "cells": [
  {
   "cell_type": "code",
   "execution_count": 56,
   "metadata": {},
   "outputs": [],
   "source": [
    "# Dependencies\n",
    "from bs4 import BeautifulSoup as bs\n",
    "import requests\n",
    "import pymongo\n",
    "# from splinter import Browser\n",
    "from flask import Flask, render_template, redirect\n",
    "from flask_pymongo import PyMongo\n",
    "import pandas as pd\n",
    "from config import api_key"
   ]
  },
  {
   "cell_type": "code",
   "execution_count": 57,
   "metadata": {},
   "outputs": [
    {
     "output_type": "stream",
     "name": "stderr",
     "text": [
      "<ipython-input-57-ab10ed2b4962>:7: DeprecationWarning: remove is deprecated. Use delete_one or delete_many instead.\n  candidate_data_collection.remove()\n<ipython-input-57-ab10ed2b4962>:8: DeprecationWarning: remove is deprecated. Use delete_one or delete_many instead.\n  members_collection.remove()\n<ipython-input-57-ab10ed2b4962>:9: DeprecationWarning: remove is deprecated. Use delete_one or delete_many instead.\n  receipt_totals_collection.remove()\n"
     ]
    },
    {
     "output_type": "execute_result",
     "data": {
      "text/plain": [
       "{'n': 627, 'ok': 1.0}"
      ]
     },
     "metadata": {},
     "execution_count": 57
    }
   ],
   "source": [
    "conn = \"mongodb://localhost:27017\"\n",
    "client = pymongo.MongoClient(conn)\n",
    "db = client.FollowTheMoney\n",
    "members_collection = db.members\n",
    "receipt_totals_collection = db.receiptTotals\n",
    "candidate_data_collection = db.candidate_data\n",
    "candidate_data_collection.remove()\n",
    "members_collection.remove()\n",
    "receipt_totals_collection.remove()"
   ]
  },
  {
   "cell_type": "code",
   "execution_count": 58,
   "metadata": {},
   "outputs": [],
   "source": [
    "newurl=f\"https://api.open.fec.gov/v1/schedules/schedule_a/by_state/by_candidate/?sort_null_only=false&api_key={api_key}&sort_hide_null=false&election_full=false&candidate_id=H8KS03155&candidate_id=H0KS02188&candidate_id=%20H8KS04112&candidate_id=H0KS01123&candidate_id=S0KS00315&candidate_id=S0KS00091&candidate_id=S8MO00160&candidate_id=S0MO00183&candidate_id=H8M001143&candidate_id=H2M002102&candidate_id=H8M009153&candidate_id=H0M004086&candidate_id=H4M005234&candidate_id=H0M006073&candidate_id=H0M007113&candidate_id=H4M008162&cycle=2014&cycle=2016&cycle=2018&cycle=2020&per_page=20&page=1&sort_nulls_last=false\"\n",
    "money=requests.get(newurl).json()"
   ]
  },
  {
   "cell_type": "code",
   "execution_count": 59,
   "metadata": {},
   "outputs": [],
   "source": [
    "total_pages = money['pagination']['pages']\n",
    "for i in range(1,total_pages+1):\n",
    "    totals_url=f\"https://api.open.fec.gov/v1/schedules/schedule_a/by_state/by_candidate/?sort_null_only=false&api_key={api_key}&sort_hide_null=false&election_full=false&candidate_id=H8KS03155&candidate_id=H0KS02188&candidate_id=20H8KS04112&candidate_id=H0KS01123&candidate_id=S0KS00315&candidate_id=S0KS00091&candidate_id=S8MO00160&candidate_id=S0MO00183&candidate_id=H8M001143&candidate_id=H2M002102&candidate_id=H8M009153&candidate_id=H0M004086&candidate_id=H4M005234&candidate_id=H0M006073&candidate_id=H0M007113&candidate_id=H4M008162&cycle=2014&cycle=2016&cycle=2018&cycle=2020&per_page=20&page={i}&sort_nulls_last=false\"\n",
    "    totals_json = requests.get(totals_url).json()\n",
    "    for item in totals_json['results']:\n",
    "        receipt_totals_collection.insert_one(item)"
   ]
  },
  {
   "cell_type": "code",
   "execution_count": 60,
   "metadata": {},
   "outputs": [],
   "source": [
    "url=f\"https://api.open.fec.gov/v1/candidates/?api_key={api_key}\"\n",
    "members = requests.get(f\"{url}&election_year=2013&election_year=2014&election_year=2015&election_year=2016&election_year=2017&election_year=2018&election_year=2019&election_year=2020&sort=name&candidate_status=C&page=1&is_active_candidate=true&per_page=20&state=KS&state=MO&office=H&office=S&sort_hide_null=false&sort_null_only=false&sort_nulls_last=false\").json()\n",
    "#find out how many pages of data there are\n",
    "total_pages = members['pagination']['pages']\n"
   ]
  },
  {
   "cell_type": "code",
   "execution_count": 61,
   "metadata": {},
   "outputs": [],
   "source": [
    "#loop through and get all results\n",
    "for i in range(1,total_pages+1):\n",
    "    members = requests.get(f\"{url}&election_year=2013&election_year=2014&election_year=2015&election_year=2016&election_year=2017&election_year=2018&election_year=2019&election_year=2020&sort=name&candidate_status=C&page={i}&is_active_candidate=true&per_page=20&state=KS&state=MO&office=H&office=S&sort_hide_null=false&sort_null_only=false&sort_nulls_last=false\").json()\n",
    "    #loop through each record and push to DB\n",
    "    for item in members[\"results\"]:\n",
    "        members_collection.insert_one(item)"
   ]
  },
  {
   "cell_type": "code",
   "execution_count": 62,
   "metadata": {},
   "outputs": [],
   "source": [
    "# grab the kansas canidates from tbe DB\n",
    "KS_candidates = members_collection.find({\"state\":\"KS\"})\n",
    "MO_candidates = members_collection.find({\"state\":\"MO\"})"
   ]
  },
  {
   "cell_type": "code",
   "execution_count": 63,
   "metadata": {
    "tags": []
   },
   "outputs": [],
   "source": [
    "#populat kansas\n",
    "for cand in KS_candidates:\n",
    "    candDetail_url = f\"https://api.open.fec.gov/v1/candidate/{cand['candidate_id']}/filings/?sort=-receipt_date&sort_nulls_last=false&page=1&sort_hide_null=false&per_page=20&api_key=cKUzXnqasaxmD3l9mDOOD5wqRfZ0rnYuZJzxKnhx&sort_null_only=false\"\n",
    "    c_response = requests.get(candDetail_url).json()\n",
    "    if c_response['results']:\n",
    "        candidate_data_collection.insert_many(c_response['results'])"
   ]
  },
  {
   "cell_type": "code",
   "execution_count": 64,
   "metadata": {},
   "outputs": [],
   "source": [
    "#populat MO\n",
    "for cand in MO_candidates:\n",
    "    candDetail_url = f\"https://api.open.fec.gov/v1/candidate/{cand['candidate_id']}/filings/?sort=-receipt_date&sort_nulls_last=false&page=1&sort_hide_null=false&per_page=20&api_key=cKUzXnqasaxmD3l9mDOOD5wqRfZ0rnYuZJzxKnhx&sort_null_only=false\"\n",
    "    c_response = requests.get(candDetail_url).json()\n",
    "    if c_response['results']:\n",
    "        candidate_data_collection.insert_many(c_response['results'])"
   ]
  },
  {
   "cell_type": "code",
   "execution_count": 65,
   "metadata": {
    "tags": [
     "outputPrepend"
    ]
   },
   "outputs": [
    {
     "output_type": "stream",
     "name": "stdout",
     "text": [
      "_funds': None, 'additional_bank_names': None, 'bank_depository_street_1': None, 'bank_depository_street_2': None, 'beginning_image_number': '202007249260815258', 'total_disbursements': None, 'fec_url': 'https://docquery.fec.gov/dcdev/posted/1428459.fec', 'is_amended': True, 'csv_url': 'https://docquery.fec.gov/csv/459/1428459.csv', 'debts_owed_by_committee': None, 'coverage_start_date': None, 'document_type': None}\n{'_id': ObjectId('60a00d17b996a9aefc961cb9'), 'net_donations': None, 'cycle': 2020, 'update_date': '2019-02-08T00:00:00', 'document_description': 'Statement of candidacy 2019', 'pages': 2, 'total_communication_cost': None, 'pdf_url': 'https://docquery.fec.gov/pdf/212/201902089145478212/201902089145478212.pdf', 'bank_depository_zip': None, 'treasurer_name': 'WAGNER, ANN L.', 'committee_name': None, 'report_type': None, 'debts_owed_to_committee': None, 'report_year': 2019, 'form_type': 'F2', 'candidate_name': 'WAGNER, ANN L.', 'committee_type': None, 'total_receipts': None, 'form_category': 'STATEMENT', 'report_type_full': None, 'ending_image_number': '201902089145478213', 'primary_general_indicator': None, 'amendment_indicator': 'N', 'previous_file_number': 1134882, 'cash_on_hand_beginning_period': None, 'bank_depository_name': None, 'opposition_personal_funds': None, 'most_recent_file_number': 1507458, 'fec_file_id': 'FEC-1315139', 'receipt_date': '2019-02-08T00:00:00', 'amendment_chain': [-540835.0, -559839.0, -589840.0, 833778.0, 1003774.0, 1134882.0, 1315139.0], 'candidate_id': 'H2MO02102', 'document_type_full': None, 'party': 'REP', 'amendment_version': 6, 'cash_on_hand_end_period': None, 'bank_depository_city': None, 'house_personal_funds': None, 'most_recent': False, 'total_independent_expenditures': None, 'total_individual_contributions': None, 'office': 'H', 'file_number': 1315139, 'request_type': None, 'state': 'MO', 'means_filed': 'e-file', 'election_year': 2020, 'html_url': 'https://docquery.fec.gov/cgi-bin/forms/H2MO02102/1315139/', 'coverage_end_date': None, 'committee_id': 'H2MO02102', 'bank_depository_state': None, 'sub_id': '4020820191638698152', 'senate_personal_funds': None, 'additional_bank_names': None, 'bank_depository_street_1': None, 'bank_depository_street_2': None, 'beginning_image_number': '201902089145478212', 'total_disbursements': None, 'fec_url': 'https://docquery.fec.gov/dcdev/posted/1315139.fec', 'is_amended': True, 'csv_url': 'https://docquery.fec.gov/csv/139/1315139.csv', 'debts_owed_by_committee': None, 'coverage_start_date': None, 'document_type': None}\n{'_id': ObjectId('60a00d17b996a9aefc961cba'), 'net_donations': None, 'cycle': 2016, 'update_date': '2016-12-13T00:00:00', 'document_description': 'Statement of candidacy 2016', 'pages': 1, 'total_communication_cost': None, 'pdf_url': 'https://docquery.fec.gov/pdf/279/201612139040606279/201612139040606279.pdf', 'bank_depository_zip': None, 'treasurer_name': 'WAGNER, ANN L.', 'committee_name': None, 'report_type': None, 'debts_owed_to_committee': None, 'report_year': 2016, 'form_type': 'F2', 'candidate_name': 'WAGNER, ANN L.', 'committee_type': None, 'total_receipts': None, 'form_category': 'STATEMENT', 'report_type_full': None, 'ending_image_number': '201612139040606279', 'primary_general_indicator': None, 'amendment_indicator': 'N', 'previous_file_number': 1134882, 'cash_on_hand_beginning_period': None, 'bank_depository_name': None, 'opposition_personal_funds': None, 'most_recent_file_number': 1507458, 'fec_file_id': 'FEC-1134882', 'receipt_date': '2016-12-13T00:00:00', 'amendment_chain': [-540835.0, -559839.0, -589840.0, 833778.0, 1003774.0, 1134882.0], 'candidate_id': 'H2MO02102', 'document_type_full': None, 'party': 'REP', 'amendment_version': 5, 'cash_on_hand_end_period': None, 'bank_depository_city': None, 'house_personal_funds': None, 'most_recent': False, 'total_independent_expenditures': None, 'total_individual_contributions': None, 'office': 'H', 'file_number': 1134882, 'request_type': None, 'state': 'MO', 'means_filed': 'e-file', 'election_year': 2018, 'html_url': 'https://docquery.fec.gov/cgi-bin/forms/H2MO02102/1134882/', 'coverage_end_date': None, 'committee_id': 'H2MO02102', 'bank_depository_state': None, 'sub_id': '4121320161357239996', 'senate_personal_funds': None, 'additional_bank_names': None, 'bank_depository_street_1': None, 'bank_depository_street_2': None, 'beginning_image_number': '201612139040606279', 'total_disbursements': None, 'fec_url': 'https://docquery.fec.gov/dcdev/posted/1134882.fec', 'is_amended': True, 'csv_url': 'https://docquery.fec.gov/csv/882/1134882.csv', 'debts_owed_by_committee': None, 'coverage_start_date': None, 'document_type': None}\n{'_id': ObjectId('60a00d17b996a9aefc961cbb'), 'net_donations': None, 'cycle': 2016, 'update_date': '2015-04-15T00:00:00', 'document_description': 'Statement of candidacy 2015', 'pages': 1, 'total_communication_cost': None, 'pdf_url': 'https://docquery.fec.gov/pdf/610/15951159610/15951159610.pdf', 'bank_depository_zip': None, 'treasurer_name': 'WAGNER, ANN L.', 'committee_name': None, 'report_type': None, 'debts_owed_to_committee': None, 'report_year': 2015, 'form_type': 'F2', 'candidate_name': 'WAGNER, ANN L.', 'committee_type': None, 'total_receipts': None, 'form_category': 'STATEMENT', 'report_type_full': None, 'ending_image_number': '15951159610', 'primary_general_indicator': None, 'amendment_indicator': 'N', 'previous_file_number': 833778, 'cash_on_hand_beginning_period': None, 'bank_depository_name': None, 'opposition_personal_funds': None, 'most_recent_file_number': 1507458, 'fec_file_id': 'FEC-1003774', 'receipt_date': '2015-04-15T00:00:00', 'amendment_chain': [-540835.0, -559839.0, -589840.0, 833778.0, 1003774.0], 'candidate_id': 'H2MO02102', 'document_type_full': None, 'party': 'REP', 'amendment_version': 4, 'cash_on_hand_end_period': None, 'bank_depository_city': None, 'house_personal_funds': None, 'most_recent': False, 'total_independent_expenditures': None, 'total_individual_contributions': None, 'office': 'H', 'file_number': 1003774, 'request_type': None, 'state': 'MO', 'means_filed': 'e-file', 'election_year': 2016, 'html_url': 'https://docquery.fec.gov/cgi-bin/forms/H2MO02102/1003774/', 'coverage_end_date': None, 'committee_id': 'H2MO02102', 'bank_depository_state': None, 'sub_id': '4041520151241820957', 'senate_personal_funds': None, 'additional_bank_names': None, 'bank_depository_street_1': None, 'bank_depository_street_2': None, 'beginning_image_number': '15951159610', 'total_disbursements': None, 'fec_url': 'https://docquery.fec.gov/dcdev/posted/1003774.fec', 'is_amended': True, 'csv_url': 'https://docquery.fec.gov/csv/774/1003774.csv', 'debts_owed_by_committee': None, 'coverage_start_date': None, 'document_type': None}\n{'_id': ObjectId('60a00d17b996a9aefc961cbc'), 'net_donations': None, 'cycle': 2016, 'update_date': '2015-04-10T00:00:00', 'document_description': 'Disavowal Notice 2015', 'pages': 1, 'total_communication_cost': None, 'pdf_url': 'https://docquery.fec.gov/pdf/213/15330080213/15330080213.pdf', 'bank_depository_zip': None, 'treasurer_name': None, 'committee_name': None, 'report_type': None, 'debts_owed_to_committee': None, 'report_year': 2015, 'form_type': 'F99', 'candidate_name': 'WAGNER, ANN L.', 'committee_type': None, 'total_receipts': None, 'form_category': 'OTHER', 'report_type_full': None, 'ending_image_number': '15330080213', 'primary_general_indicator': None, 'amendment_indicator': None, 'previous_file_number': 0, 'cash_on_hand_beginning_period': None, 'bank_depository_name': None, 'opposition_personal_funds': None, 'most_recent_file_number': None, 'fec_file_id': None, 'receipt_date': '2015-04-09T00:00:00', 'amendment_chain': None, 'candidate_id': 'H2MO02102', 'document_type_full': 'Disavowal Notice', 'party': 'REP', 'amendment_version': 0, 'cash_on_hand_end_period': None, 'bank_depository_city': None, 'house_personal_funds': None, 'most_recent': True, 'total_independent_expenditures': None, 'total_individual_contributions': None, 'office': 'H', 'file_number': None, 'request_type': None, 'state': 'MO', 'means_filed': 'paper', 'election_year': None, 'html_url': None, 'coverage_end_date': None, 'committee_id': 'H2MO02102', 'bank_depository_state': None, 'sub_id': '1041020150017300458', 'senate_personal_funds': None, 'additional_bank_names': None, 'bank_depository_street_1': None, 'bank_depository_street_2': None, 'beginning_image_number': '15330080213', 'total_disbursements': None, 'fec_url': 'https://docquery.fec.gov/paper/posted/.fec', 'is_amended': False, 'csv_url': None, 'debts_owed_by_committee': None, 'coverage_start_date': None, 'document_type': 'H'}\n{'_id': ObjectId('60a00d17b996a9aefc961cbd'), 'net_donations': None, 'cycle': 2012, 'update_date': '2012-11-13T00:00:00', 'document_description': 'Statement of candidacy 2012', 'pages': 1, 'total_communication_cost': None, 'pdf_url': 'https://docquery.fec.gov/pdf/694/12961259694/12961259694.pdf', 'bank_depository_zip': None, 'treasurer_name': 'WAGNER, ANN L.', 'committee_name': None, 'report_type': None, 'debts_owed_to_committee': None, 'report_year': 2012, 'form_type': 'F2', 'candidate_name': 'WAGNER, ANN L', 'committee_type': None, 'total_receipts': None, 'form_category': 'STATEMENT', 'report_type_full': None, 'ending_image_number': '12961259694', 'primary_general_indicator': None, 'amendment_indicator': 'N', 'previous_file_number': 833778, 'cash_on_hand_beginning_period': None, 'bank_depository_name': None, 'opposition_personal_funds': None, 'most_recent_file_number': 1507458, 'fec_file_id': 'FEC-833778', 'receipt_date': '2012-11-13T00:00:00', 'amendment_chain': [-540835.0, -559839.0, -589840.0, 833778.0], 'candidate_id': 'H2MO02102', 'document_type_full': None, 'party': 'REP', 'amendment_version': 3, 'cash_on_hand_end_period': None, 'bank_depository_city': None, 'house_personal_funds': None, 'most_recent': False, 'total_independent_expenditures': None, 'total_individual_contributions': None, 'office': 'H', 'file_number': 833778, 'request_type': None, 'state': 'MO', 'means_filed': 'e-file', 'election_year': 2014, 'html_url': 'https://docquery.fec.gov/cgi-bin/forms/H2MO02102/833778/', 'coverage_end_date': None, 'committee_id': 'H2MO02102', 'bank_depository_state': None, 'sub_id': '4111320121170497683', 'senate_personal_funds': None, 'additional_bank_names': None, 'bank_depository_street_1': None, 'bank_depository_street_2': None, 'beginning_image_number': '12961259694', 'total_disbursements': None, 'fec_url': 'https://docquery.fec.gov/dcdev/posted/833778.fec', 'is_amended': True, 'csv_url': 'https://docquery.fec.gov/csv/778/833778.csv', 'debts_owed_by_committee': None, 'coverage_start_date': None, 'document_type': None}\n{'_id': ObjectId('60a00d17b996a9aefc961cbe'), 'net_donations': None, 'cycle': 2012, 'update_date': '2011-06-22T00:00:00', 'document_description': 'Statement of candidacy 2011', 'pages': 2, 'total_communication_cost': None, 'pdf_url': 'https://docquery.fec.gov/pdf/549/11030614549/11030614549.pdf', 'bank_depository_zip': None, 'treasurer_name': None, 'committee_name': None, 'report_type': None, 'debts_owed_to_committee': None, 'report_year': 2011, 'form_type': 'F2', 'candidate_name': 'WAGNER, ANN L', 'committee_type': None, 'total_receipts': None, 'form_category': 'STATEMENT', 'report_type_full': None, 'ending_image_number': '11030614550', 'primary_general_indicator': None, 'amendment_indicator': 'A', 'previous_file_number': -589840, 'cash_on_hand_beginning_period': None, 'bank_depository_name': None, 'opposition_personal_funds': None, 'most_recent_file_number': 1507458, 'fec_file_id': None, 'receipt_date': '2011-06-14T00:00:00', 'amendment_chain': [-540835.0, -559839.0, -589840.0], 'candidate_id': 'H2MO02102', 'document_type_full': None, 'party': 'REP', 'amendment_version': 2, 'cash_on_hand_end_period': None, 'bank_depository_city': None, 'house_personal_funds': None, 'most_recent': False, 'total_independent_expenditures': None, 'total_individual_contributions': None, 'office': 'H', 'file_number': -589840, 'request_type': None, 'state': 'MO', 'means_filed': 'paper', 'election_year': 2012, 'html_url': None, 'coverage_end_date': None, 'committee_id': 'H2MO02102', 'bank_depository_state': None, 'sub_id': '1062120110005881116', 'senate_personal_funds': None, 'additional_bank_names': None, 'bank_depository_street_1': None, 'bank_depository_street_2': None, 'beginning_image_number': '11030614549', 'total_disbursements': None, 'is_amended': True, 'csv_url': None, 'debts_owed_by_committee': None, 'coverage_start_date': None, 'document_type': None}\n{'_id': ObjectId('60a00d17b996a9aefc961cbf'), 'net_donations': None, 'cycle': 2012, 'update_date': '2011-06-05T00:00:00', 'document_description': 'RFAI: Document 2011', 'pages': 1, 'total_communication_cost': None, 'pdf_url': 'https://docquery.fec.gov/pdf/172/11330010172/11330010172.pdf', 'bank_depository_zip': None, 'treasurer_name': None, 'committee_name': None, 'report_type': None, 'debts_owed_to_committee': None, 'report_year': 2011, 'form_type': 'FRQ', 'candidate_name': 'WAGNER, ANN L', 'committee_type': None, 'total_receipts': None, 'form_category': 'OTHER', 'report_type_full': None, 'ending_image_number': '11330010172', 'primary_general_indicator': None, 'amendment_indicator': None, 'previous_file_number': 0, 'cash_on_hand_beginning_period': None, 'bank_depository_name': None, 'opposition_personal_funds': None, 'most_recent_file_number': None, 'fec_file_id': None, 'receipt_date': '2011-06-03T00:00:00', 'amendment_chain': None, 'candidate_id': 'H2MO02102', 'document_type_full': None, 'party': 'REP', 'amendment_version': 0, 'cash_on_hand_end_period': None, 'bank_depository_city': None, 'house_personal_funds': None, 'most_recent': True, 'total_independent_expenditures': None, 'total_individual_contributions': None, 'office': 'H', 'file_number': None, 'request_type': '5', 'state': 'MO', 'means_filed': 'paper', 'election_year': None, 'html_url': None, 'coverage_end_date': None, 'committee_id': 'H2MO02102', 'bank_depository_state': None, 'sub_id': '1060520110005836460', 'senate_personal_funds': None, 'additional_bank_names': None, 'bank_depository_street_1': None, 'bank_depository_street_2': None, 'beginning_image_number': '11330010172', 'total_disbursements': None, 'fec_url': 'https://docquery.fec.gov/paper/posted/.fec', 'is_amended': False, 'csv_url': None, 'debts_owed_by_committee': None, 'coverage_start_date': None, 'document_type': None}\n{'_id': ObjectId('60a00d17b996a9aefc961cc0'), 'net_donations': None, 'cycle': 2012, 'update_date': '2011-05-20T00:00:00', 'document_description': 'Statement of candidacy 2011', 'pages': 2, 'total_communication_cost': None, 'pdf_url': 'https://docquery.fec.gov/pdf/235/11030610235/11030610235.pdf', 'bank_depository_zip': None, 'treasurer_name': None, 'committee_name': None, 'report_type': None, 'debts_owed_to_committee': None, 'report_year': 2011, 'form_type': 'F2', 'candidate_name': 'WAGNER, ANN L', 'committee_type': None, 'total_receipts': None, 'form_category': 'STATEMENT', 'report_type_full': None, 'ending_image_number': '11030610236', 'primary_general_indicator': None, 'amendment_indicator': 'N', 'previous_file_number': -559839, 'cash_on_hand_beginning_period': None, 'bank_depository_name': None, 'opposition_personal_funds': None, 'most_recent_file_number': 1507458, 'fec_file_id': None, 'receipt_date': '2011-05-18T00:00:00', 'amendment_chain': [-540835.0, -559839.0], 'candidate_id': 'H2MO02102', 'document_type_full': None, 'party': 'REP', 'amendment_version': 1, 'cash_on_hand_end_period': None, 'bank_depository_city': None, 'house_personal_funds': None, 'most_recent': False, 'total_independent_expenditures': None, 'total_individual_contributions': None, 'office': 'H', 'file_number': -559839, 'request_type': None, 'state': 'MO', 'means_filed': 'paper', 'election_year': 2000, 'html_url': None, 'coverage_end_date': None, 'committee_id': 'H2MO02102', 'bank_depository_state': None, 'sub_id': '1052020110005803882', 'senate_personal_funds': None, 'additional_bank_names': None, 'bank_depository_street_1': None, 'bank_depository_street_2': None, 'beginning_image_number': '11030610235', 'total_disbursements': None, 'is_amended': True, 'csv_url': None, 'debts_owed_by_committee': None, 'coverage_start_date': None, 'document_type': None}\n{'_id': ObjectId('60a00d17b996a9aefc961cc1'), 'net_donations': None, 'cycle': 2012, 'update_date': '2011-04-28T00:00:00', 'document_description': 'Statement of candidacy 2011', 'pages': 2, 'total_communication_cost': None, 'pdf_url': 'https://docquery.fec.gov/pdf/563/11030601563/11030601563.pdf', 'bank_depository_zip': None, 'treasurer_name': None, 'committee_name': None, 'report_type': None, 'debts_owed_to_committee': None, 'report_year': 2011, 'form_type': 'F2', 'candidate_name': 'WAGNER, ANN L', 'committee_type': None, 'total_receipts': None, 'form_category': 'STATEMENT', 'report_type_full': None, 'ending_image_number': '11030601564', 'primary_general_indicator': None, 'amendment_indicator': 'N', 'previous_file_number': -540835, 'cash_on_hand_beginning_period': None, 'bank_depository_name': None, 'opposition_personal_funds': None, 'most_recent_file_number': 1507458, 'fec_file_id': None, 'receipt_date': '2011-04-27T00:00:00', 'amendment_chain': [-540835.0], 'candidate_id': 'H2MO02102', 'document_type_full': None, 'party': 'REP', 'amendment_version': 0, 'cash_on_hand_end_period': None, 'bank_depository_city': None, 'house_personal_funds': None, 'most_recent': False, 'total_independent_expenditures': None, 'total_individual_contributions': None, 'office': 'H', 'file_number': -540835, 'request_type': None, 'state': 'MO', 'means_filed': 'paper', 'election_year': 2012, 'html_url': None, 'coverage_end_date': None, 'committee_id': 'H2MO02102', 'bank_depository_state': None, 'sub_id': '1042820110005729168', 'senate_personal_funds': None, 'additional_bank_names': None, 'bank_depository_street_1': None, 'bank_depository_street_2': None, 'beginning_image_number': '11030601563', 'total_disbursements': None, 'is_amended': True, 'csv_url': None, 'debts_owed_by_committee': None, 'coverage_start_date': None, 'document_type': None}\n{'_id': ObjectId('60a00d18b996a9aefc961cc2'), 'total_individual_contributions': None, 'committee_name': None, 'total_communication_cost': None, 'total_disbursements': None, 'bank_depository_street_1': None, 'house_personal_funds': None, 'committee_type': None, 'fec_file_id': None, 'report_year': 2015, 'bank_depository_name': None, 'report_type': None, 'bank_depository_zip': None, 'cycle': 2016, 'receipt_date': '2015-01-20T00:00:00', 'debts_owed_to_committee': None, 'ending_image_number': '15031373183', 'senate_personal_funds': None, 'candidate_name': 'WHITE, JAMES LLOYD', 'cash_on_hand_end_period': None, 'office': 'H', 'election_year': 2016, 'debts_owed_by_committee': None, 'request_type': None, 'candidate_id': 'H6MO04216', 'committee_id': 'H6MO04216', 'form_category': 'STATEMENT', 'form_type': 'F2', 'html_url': None, 'treasurer_name': None, 'beginning_image_number': '15031373181', 'total_receipts': None, 'document_type': None, 'previous_file_number': -8752852, 'primary_general_indicator': None, 'amendment_indicator': 'N', 'document_description': 'Statement of candidacy 2015', 'party': 'DEM', 'bank_depository_street_2': None, 'pdf_url': 'https://docquery.fec.gov/pdf/181/15031373181/15031373181.pdf', 'most_recent': True, 'amendment_chain': [-8752852.0], 'report_type_full': None, 'coverage_end_date': None, 'amendment_version': 0, 'total_independent_expenditures': None, 'document_type_full': None, 'cash_on_hand_beginning_period': None, 'means_filed': 'paper', 'net_donations': None, 'bank_depository_city': None, 'bank_depository_state': None, 'additional_bank_names': None, 'sub_id': '1012020150016580846', 'opposition_personal_funds': None, 'state': 'MO', 'csv_url': None, 'file_number': -8752852, 'coverage_start_date': None, 'pages': 3, 'is_amended': False, 'update_date': '2015-01-22T00:00:00', 'most_recent_file_number': -8752852}\n"
     ]
    }
   ],
   "source": [
    "candidates = candidate_data_collection.find()\n",
    "for candidate in candidates:\n",
    "    print(candidate)"
   ]
  },
  {
   "cell_type": "code",
   "execution_count": null,
   "metadata": {},
   "outputs": [],
   "source": []
  }
 ],
 "metadata": {
  "kernelspec": {
   "name": "python38264bit2909b329606e44ff92ccff84d12b430a",
   "display_name": "Python 3.8.2 64-bit"
  },
  "language_info": {
   "codemirror_mode": {
    "name": "ipython",
    "version": 3
   },
   "file_extension": ".py",
   "mimetype": "text/x-python",
   "name": "python",
   "nbconvert_exporter": "python",
   "pygments_lexer": "ipython3",
   "version": "3.8.2"
  },
  "metadata": {
   "interpreter": {
    "hash": "aee8b7b246df8f9039afb4144a1f6fd8d2ca17a180786b69acc140d282b71a49"
   }
  }
 },
 "nbformat": 4,
 "nbformat_minor": 5
}