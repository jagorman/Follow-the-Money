{
 "cells": [
  {
   "cell_type": "code",
   "execution_count": 2,
   "id": "documentary-audit",
   "metadata": {},
   "outputs": [],
   "source": [
    "# Dependencies\n",
    "from bs4 import BeautifulSoup as bs\n",
    "import requests\n",
    "import pymongo\n",
    "from splinter import Browser\n",
    "from flask import Flask, render_template, redirect\n",
    "from flask_pymongo import PyMongo\n",
    "import pandas as pd\n",
    "import json\n",
    "from config import api_key"
   ]
  },
  {
   "cell_type": "code",
   "execution_count": 30,
   "metadata": {},
   "outputs": [
    {
     "output_type": "stream",
     "name": "stderr",
     "text": [
      "<ipython-input-30-8f8317ee33d1>:5: DeprecationWarning: remove is deprecated. Use delete_one or delete_many instead.\n  members_collection.remove()\n"
     ]
    },
    {
     "output_type": "execute_result",
     "data": {
      "text/plain": [
       "{'n': 167, 'ok': 1.0}"
      ]
     },
     "metadata": {},
     "execution_count": 30
    }
   ],
   "source": [
    "conn = \"mongodb://localhost:27017\"\n",
    "client = pymongo.MongoClient(conn)\n",
    "db = client.FollowTheMoney\n",
    "members_collection = db.members\n",
    "members_collection.remove()"
   ]
  },
  {
   "cell_type": "code",
   "execution_count": 31,
   "id": "victorian-motorcycle",
   "metadata": {},
   "outputs": [],
   "source": [
    "url=f\"https://api.open.fec.gov/v1/candidates/?api_key={api_key}\""
   ]
  },
  {
   "cell_type": "code",
   "execution_count": 32,
   "id": "explicit-university",
   "metadata": {},
   "outputs": [],
   "source": [
    "members = requests.get(f\"{url}&election_year=2013&election_year=2014&election_year=2015&election_year=2016&election_year=2017&election_year=2018&election_year=2019&election_year=2020&sort=name&candidate_status=C&page=1&is_active_candidate=true&per_page=20&state=KS&state=MO&office=H&office=S&sort_hide_null=false&sort_null_only=false&sort_nulls_last=false\").json()"
   ]
  },
  {
   "cell_type": "code",
   "execution_count": 34,
   "id": "given-athletics",
   "metadata": {},
   "outputs": [],
   "source": [
    "#find out how many pages of data there are\n",
    "total_pages = members['pagination']['pages']"
   ]
  },
  {
   "cell_type": "code",
   "execution_count": 35,
   "metadata": {
    "tags": []
   },
   "outputs": [
    {
     "output_type": "stream",
     "name": "stdout",
     "text": [
      "1\n",
      "2\n",
      "3\n"
     ]
    }
   ],
   "source": [
    "#loop through and get all results\n",
    "for i in range(1,total_pages+1):\n",
    "    members = requests.get(f\"{url}&election_year=2013&election_year=2014&election_year=2015&election_year=2016&election_year=2017&election_year=2018&election_year=2019&election_year=2020&sort=name&candidate_status=C&page={i}&is_active_candidate=true&per_page=20&state=KS&state=MO&office=H&office=S&sort_hide_null=false&sort_null_only=false&sort_nulls_last=false\").json()\n",
    "    #loop through each record and push to DB\n",
    "    for item in members[\"results\"]:\n",
    "        members_collection.insert_one(item)"
   ]
  },
  {
   "cell_type": "code",
   "execution_count": 72,
   "id": "twenty-sunday",
   "metadata": {},
   "outputs": [],
   "source": [
    "#not needed\n",
    "##with open('members.json', 'w') as json_file:\n",
    "  #  json.dump(members, json_file)"
   ]
  }
 ],
 "metadata": {
  "kernelspec": {
   "name": "python38264bit2909b329606e44ff92ccff84d12b430a",
   "display_name": "Python 3.8.2 64-bit"
  },
  "language_info": {
   "codemirror_mode": {
    "name": "ipython",
    "version": 3
   },
   "file_extension": ".py",
   "mimetype": "text/x-python",
   "name": "python",
   "nbconvert_exporter": "python",
   "pygments_lexer": "ipython3",
   "version": "3.8.2"
  },
  "metadata": {
   "interpreter": {
    "hash": "aee8b7b246df8f9039afb4144a1f6fd8d2ca17a180786b69acc140d282b71a49"
   }
  }
 },
 "nbformat": 4,
 "nbformat_minor": 5
}